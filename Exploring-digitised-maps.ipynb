{
 "cells": [
  {
   "cell_type": "markdown",
   "metadata": {},
   "source": [
    "# Exploring digitised maps in Trove\n",
    "\n",
    "If you've ever poked around in Trove's 'map' zone, you might have noticed the beautiful deep-zoomable images available for many of the NLA's digitised maps. Even better, in many cases the high-resolution TIFF versions of the digitised maps are available for download.\n",
    "\n",
    "I knew there were lots of great maps you could download from Trove, but how many? And how big were the files? I thought I'd try to quantify this a bit by harvesting and analysing the metadata.\n",
    "\n",
    "The size of the downloadable files (both in bytes and pixels) are [embedded within the landing pages](https://nbviewer.jupyter.org/github/GLAM-Workbench/trove-books/blob/master/Metadata-for-Trove-digitised-works.ipynb) for the digitised maps. So harvesting the metadata involves a number of steps:\n",
    "\n",
    "* Use the Trove API to search for maps that include the phrase \"nla.obj\" – this will filter the results to maps that have been digitised and are available through Trove\n",
    "* Work through the results, checking to see if the record includes a link to a digital copy.\n",
    "* If there is a digital copy, extract the embedded work data from the landing page.\n",
    "* Sometimes the work data doesn't include the copyright status, if it doesn't then I scrape it from the page.\n",
    "\n",
    "Here's the [downloaded metadata as a CSV formatted file](single_maps.csv). You can also [browse the results](https://docs.google.com/spreadsheets/d/1yBPcCk9wIRovRacKbfrlyThWrzGXLF79Lr0GIQbaO9Y/edit?usp=sharing) using Google Sheets."
   ]
  },
  {
   "cell_type": "markdown",
   "metadata": {},
   "source": [
    "## Setting things up"
   ]
  },
  {
   "cell_type": "code",
   "execution_count": 16,
   "metadata": {},
   "outputs": [
    {
     "data": {
      "text/plain": [
       "DataTransformerRegistry.enable('json')"
      ]
     },
     "execution_count": 16,
     "metadata": {},
     "output_type": "execute_result"
    }
   ],
   "source": [
    "import requests\n",
    "from tqdm import tqdm_notebook\n",
    "from requests.adapters import HTTPAdapter\n",
    "from requests.packages.urllib3.util.retry import Retry\n",
    "from IPython.display import display, FileLink\n",
    "import re\n",
    "import json\n",
    "import time\n",
    "import pandas as pd\n",
    "from bs4 import BeautifulSoup\n",
    "import altair as alt\n",
    "\n",
    "s = requests.Session()\n",
    "retries = Retry(total=5, backoff_factor=1, status_forcelist=[ 502, 503, 504 ])\n",
    "s.mount('https://', HTTPAdapter(max_retries=retries))\n",
    "s.mount('http://', HTTPAdapter(max_retries=retries))\n",
    "\n",
    "alt.renderers.enable('notebook')\n",
    "alt.data_transformers.enable('json')"
   ]
  },
  {
   "cell_type": "markdown",
   "metadata": {},
   "source": [
    "## You'll need a Trove API key to harvest the data."
   ]
  },
  {
   "cell_type": "code",
   "execution_count": null,
   "metadata": {},
   "outputs": [],
   "source": [
    "api_key = ''"
   ]
  },
  {
   "cell_type": "markdown",
   "metadata": {},
   "source": [
    "## Define some functions to do the work"
   ]
  },
  {
   "cell_type": "code",
   "execution_count": 9,
   "metadata": {},
   "outputs": [],
   "source": [
    "def get_total_results(params):\n",
    "    '''\n",
    "    Get the total number of results for a search.\n",
    "    '''\n",
    "    these_params = params.copy()\n",
    "    these_params['n'] = 0\n",
    "    response = s.get('https://api.trove.nla.gov.au/v2/result', params=these_params)\n",
    "    data = response.json()\n",
    "    return int(data['response']['zone'][0]['records']['total'])\n",
    "\n",
    "\n",
    "def get_fulltext_url(links):\n",
    "    '''\n",
    "    Loop through the identifiers to find a link to the digital version of the journal.\n",
    "    '''\n",
    "    url = None\n",
    "    for link in links:\n",
    "        if link['linktype'] == 'fulltext' and 'nla.obj' in link['value']:\n",
    "            url = link['value']\n",
    "            break\n",
    "    return url\n",
    "\n",
    "def get_copyright_status(response):\n",
    "    '''\n",
    "    Scrape copyright information from a digital work page.\n",
    "    '''\n",
    "    soup = BeautifulSoup(response.text, 'lxml')\n",
    "    copyright_status = soup.find('div', id='tab-access').strong.string\n",
    "    return copyright_status\n",
    "\n",
    "def get_work_data(url):\n",
    "    '''\n",
    "    Extract work data in a JSON string from the work's HTML page.\n",
    "    '''\n",
    "    response = s.get(url)\n",
    "    try:\n",
    "        work_data = json.loads(re.search(r'var work = JSON\\.parse\\(JSON\\.stringify\\((\\{.*\\})', response.text).group(1))\n",
    "    except (AttributeError, TypeError):\n",
    "        work_data = '{}'\n",
    "    else:\n",
    "        # If there's no copyright info in the work data, then scrape it\n",
    "        if 'copyrightPolicy' not in work_data:\n",
    "            work_data['copyrightPolicy'] = get_copyright_status(response)\n",
    "    return work_data\n",
    "\n",
    "def format_bytes(size):\n",
    "    # 2**10 = 1024\n",
    "    power = 2**10\n",
    "    n = 0\n",
    "    power_labels = {0 : '', 1: 'K', 2: 'M', 3: 'G', 4: 'T'}\n",
    "    while size > power:\n",
    "        size /= power\n",
    "        n += 1\n",
    "    return size, power_labels[n]+'B'\n",
    "\n",
    "def get_map_data(work_data):\n",
    "    '''\n",
    "    Look for file size information in the embedded data\n",
    "    '''\n",
    "    map_data = {}\n",
    "    width = None\n",
    "    height = None\n",
    "    num_bytes = None\n",
    "    try:\n",
    "        # Make sure there's a downloadable version\n",
    "        if work_data.get('accessConditions') == 'Unrestricted' and 'copies' in work_data:\n",
    "            for copy in work_data['copies']:\n",
    "                # Get the pixel dimensions\n",
    "                if 'technicalmetadata' in copy:\n",
    "                    width = copy['technicalmetadata'].get('width')\n",
    "                    height = copy['technicalmetadata'].get('height')\n",
    "                # Get filesize in bytes\n",
    "                elif copy['copyrole'] in ['m', 'o', 'i', 'fd'] and copy['access'] == 'true':\n",
    "                    num_bytes = copy.get('filesize')\n",
    "            if width and height and num_bytes:\n",
    "                size, unit = format_bytes(num_bytes)\n",
    "                # Convert bytes to something human friendly\n",
    "                map_data['filesize_string'] = '{:.2f}{}'.format(size, unit)\n",
    "                map_data['filesize'] = num_bytes\n",
    "                map_data['width'] = width\n",
    "                map_data['height'] = height\n",
    "                map_data['copyright_status'] = work_data.get('copyrightPolicy')\n",
    "    except AttributeError:\n",
    "        pass\n",
    "    return map_data\n",
    "                \n",
    "\n",
    "def get_maps():\n",
    "    '''\n",
    "    Harvest metadata about maps.\n",
    "    '''\n",
    "    url = 'http://api.trove.nla.gov.au/v2/result'\n",
    "    maps = []\n",
    "    params = {\n",
    "        'q': '\"nla.obj-\"',\n",
    "        'zone': 'map',\n",
    "        'l-availability': 'y',\n",
    "        'l-format': 'Map/Single map',\n",
    "        'bulkHarvest': 'true', # Needed to maintain a consistent order across requests\n",
    "        'key': api_key,\n",
    "        'n': 100,\n",
    "        'encoding': 'json'\n",
    "    }\n",
    "    start = '*'\n",
    "    total = get_total_results(params)\n",
    "    with tqdm_notebook(total=total) as pbar:\n",
    "        while start:\n",
    "            params['s'] = start\n",
    "            response = s.get(url, params=params)\n",
    "            data = response.json()\n",
    "            # If there's a startNext value then we get it to request the next page of results\n",
    "            try:\n",
    "                start = data['response']['zone'][0]['records']['nextStart']\n",
    "            except KeyError:\n",
    "                start = None\n",
    "            for work in tqdm_notebook(data['response']['zone'][0]['records']['work'], leave=False):\n",
    "                # Check to see if there's a link to a digital version\n",
    "                try:\n",
    "                    fulltext_url = get_fulltext_url(work['identifier'])\n",
    "                except KeyError:\n",
    "                    pass\n",
    "                else:\n",
    "                    if fulltext_url:\n",
    "                        work_data = get_work_data(fulltext_url)\n",
    "                        map_data = get_map_data(work_data)\n",
    "                        if 'filesize' in map_data:\n",
    "                            trove_id = re.search(r'(nla\\.obj\\-\\d+)', fulltext_url).group(1)\n",
    "                            try:\n",
    "                                contributors = '|'.join(work.get('contributor'))\n",
    "                            except TypeError:\n",
    "                                contributors = work.get('contributor')\n",
    "                            # Get basic metadata\n",
    "                            # You could add more work data here\n",
    "                            # Check the Trove API docs for work record structure\n",
    "                            map_data['title'] = work['title']\n",
    "                            map_data['fulltext_url'] = fulltext_url\n",
    "                            map_data['trove_url'] = work.get('troveUrl')\n",
    "                            map_data['trove_id'] = trove_id\n",
    "                            map_data['date'] = work.get('issued')\n",
    "                            map_data['creators'] = contributors\n",
    "                            maps.append(map_data)\n",
    "                            time.sleep(0.2)\n",
    "            time.sleep(0.2)\n",
    "            pbar.update(100)\n",
    "    return maps"
   ]
  },
  {
   "cell_type": "markdown",
   "metadata": {},
   "source": [
    "## Download map data"
   ]
  },
  {
   "cell_type": "code",
   "execution_count": null,
   "metadata": {},
   "outputs": [],
   "source": [
    "maps = get_maps()"
   ]
  },
  {
   "cell_type": "markdown",
   "metadata": {},
   "source": [
    "## Convert to dataframe and save to CSV"
   ]
  },
  {
   "cell_type": "code",
   "execution_count": null,
   "metadata": {},
   "outputs": [],
   "source": [
    "# Convert to dataframe\n",
    "df = pd.DataFrame(maps)\n",
    "df.head()"
   ]
  },
  {
   "cell_type": "code",
   "execution_count": 29,
   "metadata": {},
   "outputs": [
    {
     "data": {
      "text/html": [
       "<a href='single_maps.csv' target='_blank'>single_maps.csv</a><br>"
      ],
      "text/plain": [
       "/Users/tim/mycode/glam-workbench/trove-maps/notebooks/single_maps.csv"
      ]
     },
     "metadata": {},
     "output_type": "display_data"
    }
   ],
   "source": [
    "# Save to CSV\n",
    "df.to_csv('single_maps.csv', index=False)\n",
    "display(FileLink('single_maps.csv'))"
   ]
  },
  {
   "cell_type": "markdown",
   "metadata": {},
   "source": [
    "## Let's explore the results"
   ]
  },
  {
   "cell_type": "code",
   "execution_count": 28,
   "metadata": {},
   "outputs": [],
   "source": [
    "# Reload data from CSV if necessary\n",
    "df = pd.read_csv('single_maps.csv')"
   ]
  },
  {
   "cell_type": "markdown",
   "metadata": {},
   "source": [
    "How many single maps have high-resolution downloads?"
   ]
  },
  {
   "cell_type": "code",
   "execution_count": 30,
   "metadata": {},
   "outputs": [
    {
     "name": "stdout",
     "output_type": "stream",
     "text": [
      "20,158 maps\n"
     ]
    }
   ],
   "source": [
    "print('{:,} maps'.format(df.shape[0]))"
   ]
  },
  {
   "cell_type": "markdown",
   "metadata": {},
   "source": [
    "How much map data is available for download?"
   ]
  },
  {
   "cell_type": "code",
   "execution_count": 31,
   "metadata": {},
   "outputs": [
    {
     "name": "stdout",
     "output_type": "stream",
     "text": [
      "7.07TB\n"
     ]
    }
   ],
   "source": [
    "size, unit = format_bytes(df['filesize'].sum())\n",
    "print('{:.2f}{}'.format(size, unit))"
   ]
  },
  {
   "cell_type": "markdown",
   "metadata": {},
   "source": [
    "What's the copyright status of the maps?"
   ]
  },
  {
   "cell_type": "code",
   "execution_count": 32,
   "metadata": {},
   "outputs": [
    {
     "data": {
      "text/plain": [
       "Out of Copyright                   14967\n",
       "In Copyright                        3271\n",
       "No known copyright restrictions     1506\n",
       "Edition Out of Copyright             245\n",
       "Copyright Undetermined               148\n",
       "Edition In Copyright                  12\n",
       "Unknown                                6\n",
       "Perpetual                              2\n",
       "Copyright Uncertain                    1\n",
       "Name: copyright_status, dtype: int64"
      ]
     },
     "execution_count": 32,
     "metadata": {},
     "output_type": "execute_result"
    }
   ],
   "source": [
    "df['copyright_status'].value_counts()"
   ]
  },
  {
   "cell_type": "markdown",
   "metadata": {},
   "source": [
    "Let's show the copyright status as a chart..."
   ]
  },
  {
   "cell_type": "code",
   "execution_count": 14,
   "metadata": {},
   "outputs": [
    {
     "data": {
      "text/html": [
       "<div class=\"vega-embed\" id=\"d617ad97-dbb5-4b3d-b523-bb3eab3a72a8\"></div>\n",
       "\n",
       "<style>\n",
       ".vega-embed .error p {\n",
       "    color: firebrick;\n",
       "    font-size: 14px;\n",
       "}\n",
       "</style>\n"
      ]
     },
     "metadata": {
      "jupyter-vega": "#d617ad97-dbb5-4b3d-b523-bb3eab3a72a8"
     },
     "output_type": "display_data"
    },
    {
     "data": {
      "application/javascript": [
       "var spec = {\"config\": {\"view\": {\"width\": 400, \"height\": 300}}, \"data\": {\"name\": \"data-287059893b80d73521bd87ec94b84cf6\"}, \"mark\": \"bar\", \"encoding\": {\"tooltip\": {\"type\": \"quantitative\", \"field\": \"count\"}, \"x\": {\"type\": \"quantitative\", \"field\": \"count\"}, \"y\": {\"type\": \"nominal\", \"field\": \"status\"}}, \"$schema\": \"https://vega.github.io/schema/vega-lite/v2.6.0.json\", \"datasets\": {\"data-287059893b80d73521bd87ec94b84cf6\": [{\"status\": \"Out of Copyright\", \"count\": 14967}, {\"status\": \"In Copyright\", \"count\": 3271}, {\"status\": \"No known copyright restrictions\", \"count\": 1506}, {\"status\": \"Edition Out of Copyright\", \"count\": 245}, {\"status\": \"Copyright Undetermined\", \"count\": 148}, {\"status\": \"Edition In Copyright\", \"count\": 12}, {\"status\": \"Unknown\", \"count\": 6}, {\"status\": \"Perpetual\", \"count\": 2}, {\"status\": \"Copyright Uncertain\", \"count\": 1}]}};\n",
       "var opt = {};\n",
       "var selector = \"#d617ad97-dbb5-4b3d-b523-bb3eab3a72a8\";\n",
       "var type = \"vega-lite\";\n",
       "\n",
       "var output_area = this;\n",
       "\n",
       "require(['nbextensions/jupyter-vega/index'], function(vega) {\n",
       "  vega.render(selector, spec, type, opt, output_area);\n",
       "}, function (err) {\n",
       "  if (err.requireType !== 'scripterror') {\n",
       "    throw(err);\n",
       "  }\n",
       "});\n"
      ]
     },
     "metadata": {
      "jupyter-vega": "#d617ad97-dbb5-4b3d-b523-bb3eab3a72a8"
     },
     "output_type": "display_data"
    },
    {
     "data": {
      "text/plain": []
     },
     "execution_count": 14,
     "metadata": {},
     "output_type": "execute_result"
    },
    {
     "data": {
      "image/png": "[encoded data removed]"
     },
     "metadata": {
      "jupyter-vega": "#d617ad97-dbb5-4b3d-b523-bb3eab3a72a8"
     },
     "output_type": "display_data"
    }
   ],
   "source": [
    "counts = df['copyright_status'].value_counts().to_frame().reset_index()\n",
    "counts.columns = ['status', 'count']\n",
    "alt.Chart(counts).mark_bar().encode(\n",
    "    y='status:N',\n",
    "    x='count',\n",
    "    tooltip='count'\n",
    ")"
   ]
  },
  {
   "cell_type": "markdown",
   "metadata": {},
   "source": [
    "Let's look at the sizes of the download files.\n",
    "\n",
    "So while most are less than 500MB, almost 5,000 are between 0.5 and 1GB!"
   ]
  },
  {
   "cell_type": "code",
   "execution_count": 21,
   "metadata": {},
   "outputs": [
    {
     "data": {
      "text/html": [
       "<div class=\"vega-embed\" id=\"5bcfa0e3-78bd-4117-9996-e18d50e6bb8a\"></div>\n",
       "\n",
       "<style>\n",
       ".vega-embed .error p {\n",
       "    color: firebrick;\n",
       "    font-size: 14px;\n",
       "}\n",
       "</style>\n"
      ]
     },
     "metadata": {
      "jupyter-vega": "#5bcfa0e3-78bd-4117-9996-e18d50e6bb8a"
     },
     "output_type": "display_data"
    },
    {
     "data": {
      "application/javascript": [
       "var spec = {\"config\": {\"view\": {\"width\": 400, \"height\": 300}}, \"data\": {\"url\": \"altair-data-66980e5ca028c9f4bae3848ab0314d98.json\", \"format\": {\"type\": \"json\"}}, \"mark\": \"bar\", \"encoding\": {\"tooltip\": {\"type\": \"quantitative\", \"aggregate\": \"count\"}, \"x\": {\"type\": \"quantitative\", \"bin\": true, \"field\": \"mb\", \"title\": \"MB\"}, \"y\": {\"type\": \"quantitative\", \"aggregate\": \"count\"}}, \"$schema\": \"https://vega.github.io/schema/vega-lite/v2.6.0.json\"};\n",
       "var opt = {};\n",
       "var selector = \"#5bcfa0e3-78bd-4117-9996-e18d50e6bb8a\";\n",
       "var type = \"vega-lite\";\n",
       "\n",
       "var output_area = this;\n",
       "\n",
       "require(['nbextensions/jupyter-vega/index'], function(vega) {\n",
       "  vega.render(selector, spec, type, opt, output_area);\n",
       "}, function (err) {\n",
       "  if (err.requireType !== 'scripterror') {\n",
       "    throw(err);\n",
       "  }\n",
       "});\n"
      ]
     },
     "metadata": {
      "jupyter-vega": "#5bcfa0e3-78bd-4117-9996-e18d50e6bb8a"
     },
     "output_type": "display_data"
    },
    {
     "data": {
      "text/plain": []
     },
     "execution_count": 21,
     "metadata": {},
     "output_type": "execute_result"
    },
    {
     "data": {
      "image/png": "[encoded data removed]"
     },
     "metadata": {
      "jupyter-vega": "#5bcfa0e3-78bd-4117-9996-e18d50e6bb8a"
     },
     "output_type": "display_data"
    }
   ],
   "source": [
    "df['mb'] = df['filesize'] / 2**10 / 2**10\n",
    "alt.Chart(df).mark_bar().encode(\n",
    "    x=alt.X('mb', bin=True, title='MB'),\n",
    "    y='count()',\n",
    "    tooltip='count()'\n",
    ")"
   ]
  },
  {
   "cell_type": "markdown",
   "metadata": {},
   "source": [
    "What's the biggest file available for download?"
   ]
  },
  {
   "cell_type": "code",
   "execution_count": 22,
   "metadata": {},
   "outputs": [
    {
     "data": {
      "text/plain": [
       "copyright_status                      No known copyright restrictions\n",
       "creators                                   Geological Survey of India\n",
       "date                                                             1932\n",
       "filesize                                                   3623879488\n",
       "filesize_string                                                3.38GB\n",
       "fulltext_url                      http://nla.gov.au/nla.obj-591001246\n",
       "height                                                          38023\n",
       "title               Map of the City of Rangoon and suburbs 1928-29...\n",
       "trove_id                                            nla.obj-591001246\n",
       "trove_url                     https://trove.nla.gov.au/work/182743876\n",
       "width                                                           31769\n",
       "mb                                                               3456\n",
       "Name: 3017, dtype: object"
      ]
     },
     "execution_count": 22,
     "metadata": {},
     "output_type": "execute_result"
    }
   ],
   "source": [
    "df.iloc[df['filesize'].idxmax()]"
   ]
  },
  {
   "cell_type": "markdown",
   "metadata": {},
   "source": [
    "All downloads greater than 3GB."
   ]
  },
  {
   "cell_type": "code",
   "execution_count": 25,
   "metadata": {},
   "outputs": [
    {
     "data": {
      "text/html": [
       "<div>\n",
       "<style scoped>\n",
       "    .dataframe tbody tr th:only-of-type {\n",
       "        vertical-align: middle;\n",
       "    }\n",
       "\n",
       "    .dataframe tbody tr th {\n",
       "        vertical-align: top;\n",
       "    }\n",
       "\n",
       "    .dataframe thead th {\n",
       "        text-align: right;\n",
       "    }\n",
       "</style>\n",
       "<table border=\"1\" class=\"dataframe\">\n",
       "  <thead>\n",
       "    <tr style=\"text-align: right;\">\n",
       "      <th></th>\n",
       "      <th>copyright_status</th>\n",
       "      <th>creators</th>\n",
       "      <th>date</th>\n",
       "      <th>filesize</th>\n",
       "      <th>filesize_string</th>\n",
       "      <th>fulltext_url</th>\n",
       "      <th>height</th>\n",
       "      <th>title</th>\n",
       "      <th>trove_id</th>\n",
       "      <th>trove_url</th>\n",
       "      <th>width</th>\n",
       "      <th>mb</th>\n",
       "    </tr>\n",
       "  </thead>\n",
       "  <tbody>\n",
       "    <tr>\n",
       "      <th>1218</th>\n",
       "      <td>Out of Copyright</td>\n",
       "      <td>Imray, James F. (James Frederick), 1829?-1891</td>\n",
       "      <td>1853-1863</td>\n",
       "      <td>3388748804</td>\n",
       "      <td>3.16GB</td>\n",
       "      <td>http://nla.gov.au/nla.obj-390032889</td>\n",
       "      <td>24785</td>\n",
       "      <td>Chart of the west, south and east coasts of Au...</td>\n",
       "      <td>nla.obj-390032889</td>\n",
       "      <td>https://trove.nla.gov.au/work/13684619</td>\n",
       "      <td>45575</td>\n",
       "      <td>3231.762699</td>\n",
       "    </tr>\n",
       "    <tr>\n",
       "      <th>3017</th>\n",
       "      <td>No known copyright restrictions</td>\n",
       "      <td>Geological Survey of India</td>\n",
       "      <td>1932</td>\n",
       "      <td>3623879488</td>\n",
       "      <td>3.38GB</td>\n",
       "      <td>http://nla.gov.au/nla.obj-591001246</td>\n",
       "      <td>38023</td>\n",
       "      <td>Map of the City of Rangoon and suburbs 1928-29...</td>\n",
       "      <td>nla.obj-591001246</td>\n",
       "      <td>https://trove.nla.gov.au/work/182743876</td>\n",
       "      <td>31769</td>\n",
       "      <td>3456.000793</td>\n",
       "    </tr>\n",
       "    <tr>\n",
       "      <th>4578</th>\n",
       "      <td>In Copyright</td>\n",
       "      <td>Indonesia. Direktorat Geologi</td>\n",
       "      <td>1970</td>\n",
       "      <td>3279210576</td>\n",
       "      <td>3.05GB</td>\n",
       "      <td>http://nla.gov.au/nla.obj-568387103</td>\n",
       "      <td>41429</td>\n",
       "      <td>Peta geologi teknik daerah Jakarta - Bogor : E...</td>\n",
       "      <td>nla.obj-568387103</td>\n",
       "      <td>https://trove.nla.gov.au/work/20208553</td>\n",
       "      <td>26384</td>\n",
       "      <td>3127.298904</td>\n",
       "    </tr>\n",
       "    <tr>\n",
       "      <th>4830</th>\n",
       "      <td>No known copyright restrictions</td>\n",
       "      <td>Taiwan</td>\n",
       "      <td>1942</td>\n",
       "      <td>3264456500</td>\n",
       "      <td>3.04GB</td>\n",
       "      <td>http://nla.gov.au/nla.obj-400826638</td>\n",
       "      <td>25508</td>\n",
       "      <td>Nyūginia-tō zenzu / Taiwan Sōtokufu Gaijibu...</td>\n",
       "      <td>nla.obj-400826638</td>\n",
       "      <td>https://trove.nla.gov.au/work/205481810</td>\n",
       "      <td>42659</td>\n",
       "      <td>3113.228321</td>\n",
       "    </tr>\n",
       "    <tr>\n",
       "      <th>7237</th>\n",
       "      <td>In Copyright</td>\n",
       "      <td>Indonesia. Direktorat Geologi</td>\n",
       "      <td>1963</td>\n",
       "      <td>3311801600</td>\n",
       "      <td>3.08GB</td>\n",
       "      <td>http://nla.gov.au/nla.obj-568387099</td>\n",
       "      <td>20990</td>\n",
       "      <td>Geological map of Djawa and Madura / compiled ...</td>\n",
       "      <td>nla.obj-568387099</td>\n",
       "      <td>https://trove.nla.gov.au/work/218208895</td>\n",
       "      <td>52593</td>\n",
       "      <td>3158.380127</td>\n",
       "    </tr>\n",
       "    <tr>\n",
       "      <th>19858</th>\n",
       "      <td>Out of Copyright</td>\n",
       "      <td>South Australia. Surveyor-General's Office</td>\n",
       "      <td>1885-1950</td>\n",
       "      <td>3308608288</td>\n",
       "      <td>3.08GB</td>\n",
       "      <td>http://nla.gov.au/nla.obj-230705067</td>\n",
       "      <td>43121</td>\n",
       "      <td>Plan shewing pastoral leases and claims in the...</td>\n",
       "      <td>nla.obj-230705067</td>\n",
       "      <td>https://trove.nla.gov.au/work/8818311</td>\n",
       "      <td>25576</td>\n",
       "      <td>3155.334747</td>\n",
       "    </tr>\n",
       "  </tbody>\n",
       "</table>\n",
       "</div>"
      ],
      "text/plain": [
       "                      copyright_status  \\\n",
       "1218                  Out of Copyright   \n",
       "3017   No known copyright restrictions   \n",
       "4578                      In Copyright   \n",
       "4830   No known copyright restrictions   \n",
       "7237                      In Copyright   \n",
       "19858                 Out of Copyright   \n",
       "\n",
       "                                            creators       date    filesize  \\\n",
       "1218   Imray, James F. (James Frederick), 1829?-1891  1853-1863  3388748804   \n",
       "3017                      Geological Survey of India       1932  3623879488   \n",
       "4578                   Indonesia. Direktorat Geologi       1970  3279210576   \n",
       "4830                                          Taiwan       1942  3264456500   \n",
       "7237                   Indonesia. Direktorat Geologi       1963  3311801600   \n",
       "19858     South Australia. Surveyor-General's Office  1885-1950  3308608288   \n",
       "\n",
       "      filesize_string                         fulltext_url  height  \\\n",
       "1218           3.16GB  http://nla.gov.au/nla.obj-390032889   24785   \n",
       "3017           3.38GB  http://nla.gov.au/nla.obj-591001246   38023   \n",
       "4578           3.05GB  http://nla.gov.au/nla.obj-568387103   41429   \n",
       "4830           3.04GB  http://nla.gov.au/nla.obj-400826638   25508   \n",
       "7237           3.08GB  http://nla.gov.au/nla.obj-568387099   20990   \n",
       "19858          3.08GB  http://nla.gov.au/nla.obj-230705067   43121   \n",
       "\n",
       "                                                   title           trove_id  \\\n",
       "1218   Chart of the west, south and east coasts of Au...  nla.obj-390032889   \n",
       "3017   Map of the City of Rangoon and suburbs 1928-29...  nla.obj-591001246   \n",
       "4578   Peta geologi teknik daerah Jakarta - Bogor : E...  nla.obj-568387103   \n",
       "4830   Nyūginia-tō zenzu / Taiwan Sōtokufu Gaijibu...  nla.obj-400826638   \n",
       "7237   Geological map of Djawa and Madura / compiled ...  nla.obj-568387099   \n",
       "19858  Plan shewing pastoral leases and claims in the...  nla.obj-230705067   \n",
       "\n",
       "                                     trove_url  width           mb  \n",
       "1218    https://trove.nla.gov.au/work/13684619  45575  3231.762699  \n",
       "3017   https://trove.nla.gov.au/work/182743876  31769  3456.000793  \n",
       "4578    https://trove.nla.gov.au/work/20208553  26384  3127.298904  \n",
       "4830   https://trove.nla.gov.au/work/205481810  42659  3113.228321  \n",
       "7237   https://trove.nla.gov.au/work/218208895  52593  3158.380127  \n",
       "19858    https://trove.nla.gov.au/work/8818311  25576  3155.334747  "
      ]
     },
     "execution_count": 25,
     "metadata": {},
     "output_type": "execute_result"
    }
   ],
   "source": [
    "df.loc[(df['filesize'] / 2**10 / 2**10 / 2**10) > 3]"
   ]
  },
  {
   "cell_type": "markdown",
   "metadata": {},
   "source": [
    "The widest image?"
   ]
  },
  {
   "cell_type": "code",
   "execution_count": 26,
   "metadata": {},
   "outputs": [
    {
     "data": {
      "text/plain": [
       "copyright_status                                         In Copyright\n",
       "creators                               Brunei Shell Petroleum Company\n",
       "date                                                             1968\n",
       "filesize                                                   3008938460\n",
       "filesize_string                                                2.80GB\n",
       "fulltext_url                      http://nla.gov.au/nla.obj-636346192\n",
       "height                                                          14652\n",
       "title               Land status petroleum mining agreement in resp...\n",
       "trove_id                                            nla.obj-636346192\n",
       "trove_url                     https://trove.nla.gov.au/work/230363372\n",
       "width                                                           68453\n",
       "mb                                                            2869.55\n",
       "Name: 8165, dtype: object"
      ]
     },
     "execution_count": 26,
     "metadata": {},
     "output_type": "execute_result"
    }
   ],
   "source": [
    "df.iloc[df['width'].idxmax()]"
   ]
  },
  {
   "cell_type": "markdown",
   "metadata": {},
   "source": [
    "The tallest image?"
   ]
  },
  {
   "cell_type": "code",
   "execution_count": 27,
   "metadata": {},
   "outputs": [
    {
     "data": {
      "text/plain": [
       "copyright_status                                     Out of Copyright\n",
       "creators                   South Australia. Surveyor-General's Office\n",
       "date                                                        1885-1950\n",
       "filesize                                                   3308608288\n",
       "filesize_string                                                3.08GB\n",
       "fulltext_url                      http://nla.gov.au/nla.obj-230705067\n",
       "height                                                          43121\n",
       "title               Plan shewing pastoral leases and claims in the...\n",
       "trove_id                                            nla.obj-230705067\n",
       "trove_url                       https://trove.nla.gov.au/work/8818311\n",
       "width                                                           25576\n",
       "mb                                                            3155.33\n",
       "Name: 19858, dtype: object"
      ]
     },
     "execution_count": 27,
     "metadata": {},
     "output_type": "execute_result"
    }
   ],
   "source": [
    "df.iloc[df['height'].idxmax()]"
   ]
  },
  {
   "cell_type": "markdown",
   "metadata": {},
   "source": [
    "----\n",
    "\n",
    "Created by [Tim Sherratt](https://timsherratt.org/).\n",
    "\n",
    "Work on this notebook was supported by the [Humanities, Arts and Social Sciences (HASS) Data Enhanced Virtual Lab](https://tinker.edu.au/).\n"
   ]
  }
 ],
 "metadata": {
  "kernelspec": {
   "display_name": "Python 3",
   "language": "python",
   "name": "python3"
  },
  "language_info": {
   "codemirror_mode": {
    "name": "ipython",
    "version": 3
   },
   "file_extension": ".py",
   "mimetype": "text/x-python",
   "name": "python",
   "nbconvert_exporter": "python",
   "pygments_lexer": "ipython3",
   "version": "3.7.3"
  }
 },
 "nbformat": 4,
 "nbformat_minor": 2
}
