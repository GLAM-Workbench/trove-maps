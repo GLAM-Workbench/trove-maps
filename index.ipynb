{
 "cells": [
  {
   "cell_type": "markdown",
   "id": "f942f069",
   "metadata": {},
   "source": [
    "# trove-maps\n",
    "\n",
    "Maps are found in Trove's 'Images, Maps & Artefacts' category. This includes single maps, as well as map series, atlases, and aerial photographs. You can access metadata about maps through the Trove API.\n",
    "\n",
    "For more information and documentation see the [Trove maps](https://glam-workbench.net/trove-maps) section of the [GLAM Workbench](https://glam-workbench.net).\n",
    "\n",
    "## Notebooks\n",
    "- [Create a subset of digitised maps by searching for coordinates](https://github.com/GLAM-Workbench/trove-maps/blob/None/create-map-subsets.ipynb)\n",
    "- [Parse map coordinates from metadata](https://github.com/GLAM-Workbench/trove-maps/blob/None/parse_coordinates.ipynb)\n",
    "- [Exploring digitised maps in Trove](https://github.com/GLAM-Workbench/trove-maps/blob/None/Exploring-digitised-maps.ipynb)"
   ]
  },
  {
   "cell_type": "markdown",
   "id": "18a7ad09",
   "metadata": {},
   "source": [
    "## Associated datasets\n",
    "- [trove-maps-data](https://github.com/GLAM-Workbench/trove-maps-data)\n"
   ]
  },
  {
   "cell_type": "markdown",
   "id": "af824275",
   "metadata": {},
   "source": [
    "----\n",
    "Created by [Tim Sherratt](https://timsherratt.au) for the [GLAM Workbench](https://glam-workbench.net)"
   ]
  }
 ],
 "metadata": {
  "jupytext": {
   "cell_metadata_filter": "-all"
  },
  "kernelspec": {
   "display_name": "Python 3 (ipykernel)",
   "language": "python",
   "name": "python3"
  }
 },
 "nbformat": 4,
 "nbformat_minor": 5
}
