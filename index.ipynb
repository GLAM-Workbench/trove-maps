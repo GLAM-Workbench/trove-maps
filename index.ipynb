{
 "cells": [
  {
   "cell_type": "markdown",
   "id": "1089050c",
   "metadata": {},
   "source": [
    "[![DOI](https://zenodo.org/badge/DOI/10.5281/zenodo.3549427.svg)](https://doi.org/10.5281/zenodo.3549427)"
   ]
  },
  {
   "cell_type": "markdown",
   "id": "a6bae395",
   "metadata": {},
   "source": [
    "# Trove maps\n",
    "\n",
    "Current version: [v1.0.0](https://github.com/GLAM-Workbench/trove-maps/releases/tag/v1.0.0)\n",
    "\n",
    "Jupyter notebooks to work with data from Trove's maps zone.\n",
    "\n",
    "See the [Trove map section](https://glam-workbench.net/trove-maps/) of the GLAM Workbench for more details.\n",
    "\n",
    "## Notebook topics\n",
    "\n",
    "* [Exploring digitised maps in Trove](Exploring-digitised-maps.ipynb) –  quantify volume of digitised maps by harvesting and analysing the metadata.\n",
    "\n",
    "* [Parse map coordinates from metadata](parse_coordinates.ipynb) – parse coordinate strings from the metadata and convert the values to decimals. \n"
   ]
  },
  {
   "cell_type": "markdown",
   "id": "4e7f70a3",
   "metadata": {},
   "source": [
    "## Cite as\n",
    "\n",
    "See the GLAM Workbench or [Zenodo](https://doi.org/10.5281/zenodo.3549426) for up-to-date citation details.\n",
    "\n",
    "----\n",
    "\n",
    "This repository is part of the [GLAM Workbench](https://glam-workbench.net/). \n"
   ]
  }
 ],
 "metadata": {
  "jupytext": {
   "cell_metadata_filter": "-all"
  },
  "kernelspec": {
   "display_name": "Python 3 (ipykernel)",
   "language": "python",
   "name": "python3"
  }
 },
 "nbformat": 4,
 "nbformat_minor": 5
}
